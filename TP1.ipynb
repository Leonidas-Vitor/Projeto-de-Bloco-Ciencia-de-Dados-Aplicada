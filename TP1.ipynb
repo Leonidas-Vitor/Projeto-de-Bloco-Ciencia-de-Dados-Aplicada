{
 "cells": [
  {
   "cell_type": "code",
   "execution_count": 6,
   "metadata": {},
   "outputs": [],
   "source": [
    "!pip freeze > requirement.txt"
   ]
  },
  {
   "cell_type": "code",
   "execution_count": 7,
   "metadata": {},
   "outputs": [
    {
     "name": "stdout",
     "output_type": "stream",
     "text": [
      "Requirement already satisfied: streamlit in f:\\onedrive\\graduação ciência de dados\\tps\\projeto de bloco 4\\tp1\\tp1_projeto_bloco_env\\lib\\site-packages (1.37.1)\n",
      "Requirement already satisfied: altair<6,>=4.0 in f:\\onedrive\\graduação ciência de dados\\tps\\projeto de bloco 4\\tp1\\tp1_projeto_bloco_env\\lib\\site-packages (from streamlit) (5.4.0)\n",
      "Requirement already satisfied: blinker<2,>=1.0.0 in f:\\onedrive\\graduação ciência de dados\\tps\\projeto de bloco 4\\tp1\\tp1_projeto_bloco_env\\lib\\site-packages (from streamlit) (1.8.2)\n",
      "Requirement already satisfied: cachetools<6,>=4.0 in f:\\onedrive\\graduação ciência de dados\\tps\\projeto de bloco 4\\tp1\\tp1_projeto_bloco_env\\lib\\site-packages (from streamlit) (5.4.0)\n",
      "Requirement already satisfied: click<9,>=7.0 in f:\\onedrive\\graduação ciência de dados\\tps\\projeto de bloco 4\\tp1\\tp1_projeto_bloco_env\\lib\\site-packages (from streamlit) (8.1.7)\n",
      "Requirement already satisfied: numpy<3,>=1.20 in f:\\onedrive\\graduação ciência de dados\\tps\\projeto de bloco 4\\tp1\\tp1_projeto_bloco_env\\lib\\site-packages (from streamlit) (2.0.1)\n",
      "Requirement already satisfied: packaging<25,>=20 in f:\\onedrive\\graduação ciência de dados\\tps\\projeto de bloco 4\\tp1\\tp1_projeto_bloco_env\\lib\\site-packages (from streamlit) (24.1)\n",
      "Requirement already satisfied: pandas<3,>=1.3.0 in f:\\onedrive\\graduação ciência de dados\\tps\\projeto de bloco 4\\tp1\\tp1_projeto_bloco_env\\lib\\site-packages (from streamlit) (2.2.2)\n",
      "Requirement already satisfied: pillow<11,>=7.1.0 in f:\\onedrive\\graduação ciência de dados\\tps\\projeto de bloco 4\\tp1\\tp1_projeto_bloco_env\\lib\\site-packages (from streamlit) (10.4.0)\n",
      "Requirement already satisfied: protobuf<6,>=3.20 in f:\\onedrive\\graduação ciência de dados\\tps\\projeto de bloco 4\\tp1\\tp1_projeto_bloco_env\\lib\\site-packages (from streamlit) (5.27.3)\n",
      "Requirement already satisfied: pyarrow>=7.0 in f:\\onedrive\\graduação ciência de dados\\tps\\projeto de bloco 4\\tp1\\tp1_projeto_bloco_env\\lib\\site-packages (from streamlit) (17.0.0)\n",
      "Requirement already satisfied: requests<3,>=2.27 in f:\\onedrive\\graduação ciência de dados\\tps\\projeto de bloco 4\\tp1\\tp1_projeto_bloco_env\\lib\\site-packages (from streamlit) (2.32.3)\n",
      "Requirement already satisfied: rich<14,>=10.14.0 in f:\\onedrive\\graduação ciência de dados\\tps\\projeto de bloco 4\\tp1\\tp1_projeto_bloco_env\\lib\\site-packages (from streamlit) (13.7.1)\n",
      "Requirement already satisfied: tenacity<9,>=8.1.0 in f:\\onedrive\\graduação ciência de dados\\tps\\projeto de bloco 4\\tp1\\tp1_projeto_bloco_env\\lib\\site-packages (from streamlit) (8.5.0)\n",
      "Requirement already satisfied: toml<2,>=0.10.1 in f:\\onedrive\\graduação ciência de dados\\tps\\projeto de bloco 4\\tp1\\tp1_projeto_bloco_env\\lib\\site-packages (from streamlit) (0.10.2)\n",
      "Requirement already satisfied: typing-extensions<5,>=4.3.0 in f:\\onedrive\\graduação ciência de dados\\tps\\projeto de bloco 4\\tp1\\tp1_projeto_bloco_env\\lib\\site-packages (from streamlit) (4.12.2)\n",
      "Requirement already satisfied: gitpython!=3.1.19,<4,>=3.0.7 in f:\\onedrive\\graduação ciência de dados\\tps\\projeto de bloco 4\\tp1\\tp1_projeto_bloco_env\\lib\\site-packages (from streamlit) (3.1.43)\n",
      "Requirement already satisfied: pydeck<1,>=0.8.0b4 in f:\\onedrive\\graduação ciência de dados\\tps\\projeto de bloco 4\\tp1\\tp1_projeto_bloco_env\\lib\\site-packages (from streamlit) (0.9.1)\n",
      "Requirement already satisfied: tornado<7,>=6.0.3 in f:\\onedrive\\graduação ciência de dados\\tps\\projeto de bloco 4\\tp1\\tp1_projeto_bloco_env\\lib\\site-packages (from streamlit) (6.4.1)\n",
      "Requirement already satisfied: watchdog<5,>=2.1.5 in f:\\onedrive\\graduação ciência de dados\\tps\\projeto de bloco 4\\tp1\\tp1_projeto_bloco_env\\lib\\site-packages (from streamlit) (4.0.2)\n",
      "Requirement already satisfied: jinja2 in f:\\onedrive\\graduação ciência de dados\\tps\\projeto de bloco 4\\tp1\\tp1_projeto_bloco_env\\lib\\site-packages (from altair<6,>=4.0->streamlit) (3.1.4)\n",
      "Requirement already satisfied: jsonschema>=3.0 in f:\\onedrive\\graduação ciência de dados\\tps\\projeto de bloco 4\\tp1\\tp1_projeto_bloco_env\\lib\\site-packages (from altair<6,>=4.0->streamlit) (4.23.0)\n",
      "Requirement already satisfied: narwhals>=1.1.0 in f:\\onedrive\\graduação ciência de dados\\tps\\projeto de bloco 4\\tp1\\tp1_projeto_bloco_env\\lib\\site-packages (from altair<6,>=4.0->streamlit) (1.4.2)\n",
      "Requirement already satisfied: colorama in f:\\onedrive\\graduação ciência de dados\\tps\\projeto de bloco 4\\tp1\\tp1_projeto_bloco_env\\lib\\site-packages (from click<9,>=7.0->streamlit) (0.4.6)\n",
      "Requirement already satisfied: gitdb<5,>=4.0.1 in f:\\onedrive\\graduação ciência de dados\\tps\\projeto de bloco 4\\tp1\\tp1_projeto_bloco_env\\lib\\site-packages (from gitpython!=3.1.19,<4,>=3.0.7->streamlit) (4.0.11)\n",
      "Requirement already satisfied: python-dateutil>=2.8.2 in f:\\onedrive\\graduação ciência de dados\\tps\\projeto de bloco 4\\tp1\\tp1_projeto_bloco_env\\lib\\site-packages (from pandas<3,>=1.3.0->streamlit) (2.9.0.post0)\n",
      "Requirement already satisfied: pytz>=2020.1 in f:\\onedrive\\graduação ciência de dados\\tps\\projeto de bloco 4\\tp1\\tp1_projeto_bloco_env\\lib\\site-packages (from pandas<3,>=1.3.0->streamlit) (2024.1)\n",
      "Requirement already satisfied: tzdata>=2022.7 in f:\\onedrive\\graduação ciência de dados\\tps\\projeto de bloco 4\\tp1\\tp1_projeto_bloco_env\\lib\\site-packages (from pandas<3,>=1.3.0->streamlit) (2024.1)\n",
      "Requirement already satisfied: charset-normalizer<4,>=2 in f:\\onedrive\\graduação ciência de dados\\tps\\projeto de bloco 4\\tp1\\tp1_projeto_bloco_env\\lib\\site-packages (from requests<3,>=2.27->streamlit) (3.3.2)\n",
      "Requirement already satisfied: idna<4,>=2.5 in f:\\onedrive\\graduação ciência de dados\\tps\\projeto de bloco 4\\tp1\\tp1_projeto_bloco_env\\lib\\site-packages (from requests<3,>=2.27->streamlit) (3.7)\n",
      "Requirement already satisfied: urllib3<3,>=1.21.1 in f:\\onedrive\\graduação ciência de dados\\tps\\projeto de bloco 4\\tp1\\tp1_projeto_bloco_env\\lib\\site-packages (from requests<3,>=2.27->streamlit) (2.2.2)\n",
      "Requirement already satisfied: certifi>=2017.4.17 in f:\\onedrive\\graduação ciência de dados\\tps\\projeto de bloco 4\\tp1\\tp1_projeto_bloco_env\\lib\\site-packages (from requests<3,>=2.27->streamlit) (2024.7.4)\n",
      "Requirement already satisfied: markdown-it-py>=2.2.0 in f:\\onedrive\\graduação ciência de dados\\tps\\projeto de bloco 4\\tp1\\tp1_projeto_bloco_env\\lib\\site-packages (from rich<14,>=10.14.0->streamlit) (3.0.0)\n",
      "Requirement already satisfied: pygments<3.0.0,>=2.13.0 in f:\\onedrive\\graduação ciência de dados\\tps\\projeto de bloco 4\\tp1\\tp1_projeto_bloco_env\\lib\\site-packages (from rich<14,>=10.14.0->streamlit) (2.18.0)\n",
      "Requirement already satisfied: smmap<6,>=3.0.1 in f:\\onedrive\\graduação ciência de dados\\tps\\projeto de bloco 4\\tp1\\tp1_projeto_bloco_env\\lib\\site-packages (from gitdb<5,>=4.0.1->gitpython!=3.1.19,<4,>=3.0.7->streamlit) (5.0.1)\n",
      "Requirement already satisfied: MarkupSafe>=2.0 in f:\\onedrive\\graduação ciência de dados\\tps\\projeto de bloco 4\\tp1\\tp1_projeto_bloco_env\\lib\\site-packages (from jinja2->altair<6,>=4.0->streamlit) (2.1.5)\n",
      "Requirement already satisfied: attrs>=22.2.0 in f:\\onedrive\\graduação ciência de dados\\tps\\projeto de bloco 4\\tp1\\tp1_projeto_bloco_env\\lib\\site-packages (from jsonschema>=3.0->altair<6,>=4.0->streamlit) (24.2.0)\n",
      "Requirement already satisfied: jsonschema-specifications>=2023.03.6 in f:\\onedrive\\graduação ciência de dados\\tps\\projeto de bloco 4\\tp1\\tp1_projeto_bloco_env\\lib\\site-packages (from jsonschema>=3.0->altair<6,>=4.0->streamlit) (2023.12.1)\n",
      "Requirement already satisfied: referencing>=0.28.4 in f:\\onedrive\\graduação ciência de dados\\tps\\projeto de bloco 4\\tp1\\tp1_projeto_bloco_env\\lib\\site-packages (from jsonschema>=3.0->altair<6,>=4.0->streamlit) (0.35.1)\n",
      "Requirement already satisfied: rpds-py>=0.7.1 in f:\\onedrive\\graduação ciência de dados\\tps\\projeto de bloco 4\\tp1\\tp1_projeto_bloco_env\\lib\\site-packages (from jsonschema>=3.0->altair<6,>=4.0->streamlit) (0.20.0)\n",
      "Requirement already satisfied: mdurl~=0.1 in f:\\onedrive\\graduação ciência de dados\\tps\\projeto de bloco 4\\tp1\\tp1_projeto_bloco_env\\lib\\site-packages (from markdown-it-py>=2.2.0->rich<14,>=10.14.0->streamlit) (0.1.2)\n",
      "Requirement already satisfied: six>=1.5 in f:\\onedrive\\graduação ciência de dados\\tps\\projeto de bloco 4\\tp1\\tp1_projeto_bloco_env\\lib\\site-packages (from python-dateutil>=2.8.2->pandas<3,>=1.3.0->streamlit) (1.16.0)\n"
     ]
    },
    {
     "name": "stderr",
     "output_type": "stream",
     "text": [
      "\n",
      "[notice] A new release of pip is available: 23.2.1 -> 24.2\n",
      "[notice] To update, run: python.exe -m pip install --upgrade pip\n"
     ]
    }
   ],
   "source": [
    "!pip install streamlit"
   ]
  },
  {
   "cell_type": "markdown",
   "metadata": {},
   "source": [
    "### APP"
   ]
  },
  {
   "cell_type": "code",
   "execution_count": 105,
   "metadata": {},
   "outputs": [
    {
     "name": "stdout",
     "output_type": "stream",
     "text": [
      "Overwriting F:\\OneDrive\\Graduação Ciência de dados\\TPs\\Projeto de Bloco 4\\TP1\\app\\app.py\n"
     ]
    }
   ],
   "source": [
    "%%writefile \"F:\\OneDrive\\Graduação Ciência de dados\\TPs\\Projeto de Bloco 4\\TP1\\app\\app.py\"\n",
    "import streamlit as st\n",
    "\n",
    "\n",
    "intro_page = st.Page(\"model/Intro.py\", title=\"Introdução\", icon=\"📑\")\n",
    "part_1 = st.Page(\"model/Parte1.py\", title=\"Parte 1\", icon=\"1️⃣\")\n",
    "part_2 = st.Page(\"model/Parte2.py\", title=\"Parte 2\", icon=\"2️⃣\")\n",
    "\n",
    "pg = st.navigation([intro_page, part_1, part_2])\n",
    "\n",
    "st.set_page_config(\n",
    "        page_title=\"Intro\",\n",
    "        page_icon=\"image/Infnet_logo.png\",\n",
    "        layout=\"wide\",\n",
    "        initial_sidebar_state = \"expanded\")\n",
    "\n",
    "pg.run()\n"
   ]
  },
  {
   "cell_type": "markdown",
   "metadata": {},
   "source": [
    "### Capa"
   ]
  },
  {
   "cell_type": "code",
   "execution_count": 106,
   "metadata": {},
   "outputs": [
    {
     "name": "stdout",
     "output_type": "stream",
     "text": [
      "Overwriting F:\\OneDrive\\Graduação Ciência de dados\\TPs\\Projeto de Bloco 4\\TP1\\app\\model\\Intro.py\n"
     ]
    }
   ],
   "source": [
    "%%writefile \"F:\\OneDrive\\Graduação Ciência de dados\\TPs\\Projeto de Bloco 4\\TP1\\app\\model\\Intro.py\"\n",
    "import streamlit as st\n",
    "import os\n",
    "\n",
    "path_to_logo = os.path.join(os.path.dirname(__file__), '..', 'image', 'Infnet_logo.png')\n",
    "\n",
    "\n",
    "html_p = \"\"\"<p style='text-align: center; font-size:%spx;'><b>%s</b></p>\"\"\"\n",
    "\n",
    "github_link = '''https://github.com/Leonidas-Vitor/TP1---Projeto-de-Bloco-Ciencia-de-Dados-Aplicada'''\n",
    "\n",
    "email = '''leonidas.almeida@al.infnet.edu.br'''\n",
    "\n",
    "#st.divider()\n",
    "columns = st.columns([0.3,0.7])\n",
    "with columns[0]:\n",
    "    st.image(path_to_logo,width=200)\n",
    "\n",
    "    #st.markdown(html_p % tuple([25,'Desenvolvimento Front-End com Python']),unsafe_allow_html = True)\n",
    "    #st.markdown(html_p % tuple([25,'TP1']),unsafe_allow_html = True)\n",
    "\n",
    "with columns[1]:\n",
    "    st.markdown('''<h1 style='text-align: center; '><b>INSTITUTO INFNET</b></h1>''',unsafe_allow_html = True)\n",
    "    st.markdown(html_p % tuple([35,\"ESCOLA SUPERIOR DE TECNOLOGIA\"]),unsafe_allow_html=True)\n",
    "st.divider()\n",
    "st.markdown(html_p % tuple([35,\"TP1 - Projeto de Bloco: Ciência de Dados Aplicada\"]),unsafe_allow_html=True)\n",
    "st.markdown(html_p % tuple([25,'Aluno: Leônidas Almeida']),unsafe_allow_html = True)\n",
    "st.markdown(html_p % tuple([25,f'E-mail: <a href= mailto:{email}>{email}</a>']),unsafe_allow_html = True)\n",
    "st.markdown(html_p % tuple([25,f'GitHub: <a href={github_link}>Link para o repositório</a>']),unsafe_allow_html = True)\n",
    "\n"
   ]
  },
  {
   "cell_type": "markdown",
   "metadata": {},
   "source": [
    "### BMC e Conceituação"
   ]
  },
  {
   "cell_type": "code",
   "execution_count": 82,
   "metadata": {},
   "outputs": [
    {
     "name": "stdout",
     "output_type": "stream",
     "text": [
      "Overwriting F:\\OneDrive\\Graduação Ciência de dados\\TPs\\Projeto de Bloco 4\\TP1\\Parte1.py\n"
     ]
    }
   ],
   "source": [
    "%%writefile \"F:\\OneDrive\\Graduação Ciência de dados\\TPs\\Projeto de Bloco 4\\TP1\\app\\model\\Parte1.py\"\n",
    "import streamlit as st\n",
    "\n",
    "# Função para exibir um painel do Business Model Canvas com cores de fundo\n",
    "def display_business_model_canvas():\n",
    "    st.title('Business Model Canvas')\n",
    "\n",
    "    # Define o estilo CSS\n",
    "    st.markdown(\"\"\"\n",
    "        <style>\n",
    "        .canvas-section {\n",
    "            padding: 10px;\n",
    "            margin: 10px;\n",
    "            border-radius: 5px;\n",
    "            color: #fff;\n",
    "            font-weight: bold;\n",
    "            text-align: center;\n",
    "            font-size: 16px;\n",
    "            position: relative;\n",
    "            overflow: hidden;\n",
    "            min-height: 175px;\n",
    "        }\n",
    "        .canvas-section .description {\n",
    "            background-color: rgba(255, 255, 255, 0.7); /* Fundo branco com transparência */\n",
    "            color: #000; /* Texto preto para contraste */\n",
    "            padding: 5px;\n",
    "            border-radius: 5px;\n",
    "            position: absolute;\n",
    "            top: 40px;\n",
    "            bottom: 10px;\n",
    "            left: 10px;\n",
    "            right: 10px;\n",
    "            font-size: 14px; /* Reduz a fonte das descrições */\n",
    "            min-height: 100px; /* Ajusta a altura para comportar o texto sem rolagem */\n",
    "            overflow: hidden; /* Remove rolagem */\n",
    "            text-align: left; /* Alinha o texto à esquerda */\n",
    "            line-height: 1.2; /* Reduz o espaço entre linhas para menos espaço entre título e descrição */\n",
    "        }\n",
    "        .customer-segments { background-color: #1f77b4; }\n",
    "        .value-proposition { background-color: #ff7f0e; }\n",
    "        .channels { background-color: #2ca02c; }\n",
    "        .customer-relationships { background-color: #d62728; }\n",
    "        .revenue-streams { background-color: #9467bd; }\n",
    "        .key-resources { background-color: #8c564b; }\n",
    "        .key-activities { background-color: #e377c2; }\n",
    "        .key-partners { background-color: #7f7f7f; }\n",
    "        .cost-structure { background-color: #bcbd22; }\n",
    "        </style>\n",
    "    \"\"\", unsafe_allow_html=True)\n",
    "\n",
    "    # Layout para o Business Model Canvas com cores de fundo e texto dentro das seções coloridas\n",
    "    col1, col2, col3, col4 = st.columns([1, 1, 1, 1])\n",
    "\n",
    "    with col1:\n",
    "        st.markdown('''\n",
    "            <div class=\"canvas-section customer-segments\">\n",
    "                Segmentos de Clientes\n",
    "                <div class=\"description\">\n",
    "                    - Pessoas físicas (pequeno investidor) que buscam ações com desempenho histórico acima da inflação, ou seja, ações de empresas mais consolidadas e estáveis.<br>\n",
    "                </div>\n",
    "            </div>\n",
    "        ''', unsafe_allow_html=True)\n",
    "\n",
    "    with col2:\n",
    "        st.markdown('''\n",
    "            <div class=\"canvas-section value-proposition\">\n",
    "                Proposta de Valor\n",
    "                <div class=\"description\">\n",
    "                    ODS: Trabalho decente e Crescimento Econômico<br>\n",
    "                    - Insights sobre ações em relação à inflação e ao dólar.<br>\n",
    "                    - Identificar ações com valorização acima da inflação e/ou acima da variação cambial.\n",
    "                </div>\n",
    "            </div>\n",
    "        ''', unsafe_allow_html=True)\n",
    "\n",
    "    with col3:\n",
    "        st.markdown('''\n",
    "            <div class=\"canvas-section channels\">\n",
    "                Canais\n",
    "                <div class=\"description\">\n",
    "                    - Dashboard streamlit para visualização das ações e demais dados.<br>\n",
    "                </div>\n",
    "            </div>\n",
    "        ''', unsafe_allow_html=True)\n",
    "\n",
    "    with col4:\n",
    "        st.markdown('''\n",
    "            <div class=\"canvas-section customer-relationships\">\n",
    "                Relacionamento com Clientes\n",
    "                <div class=\"description\">\n",
    "                    - Sugestões e feedbacks via e e-mail.<br>\n",
    "                </div>\n",
    "            </div>\n",
    "        ''', unsafe_allow_html=True)\n",
    "\n",
    "    col5, col6 = st.columns([1, 1])\n",
    "\n",
    "    with col5:\n",
    "        st.markdown('''\n",
    "            <div class=\"canvas-section revenue-streams\">\n",
    "                Fontes de Receita\n",
    "                <div class=\"description\">\n",
    "                    - Para esse projeto, a receita será proveniente de propagandas no dashboard.<br>\n",
    "                </div>\n",
    "            </div>\n",
    "        ''', unsafe_allow_html=True)\n",
    "\n",
    "    with col6:\n",
    "        st.markdown('''\n",
    "            <div class=\"canvas-section key-resources\">\n",
    "                Recursos Principais\n",
    "                <div class=\"description\">\n",
    "                    - Computadores/servidores para coleta e processamento de dados.<br>\n",
    "                    - Dados financeiros e econômicos de fontes públicas;\n",
    "                    IBGE, Yahoo Finance, Banco Central, IPEA, B3<br>\n",
    "                    - StreamCloud<br>\n",
    "                    - MongoDB<br>\n",
    "                </div>\n",
    "            </div>\n",
    "        ''', unsafe_allow_html=True)\n",
    "\n",
    "    col7, col8 = st.columns([1, 1])\n",
    "\n",
    "    with col7:\n",
    "        st.markdown('''\n",
    "            <div class=\"canvas-section key-activities\">\n",
    "                Atividades-Chave\n",
    "                <div class=\"description\">\n",
    "                    - Coleta e atualização de dados<br>\n",
    "                    - Desenvolvimento e manutenção do dashboard.<br>\n",
    "                </div>\n",
    "            </div>\n",
    "        ''', unsafe_allow_html=True)\n",
    "\n",
    "    with col8:\n",
    "        st.markdown('''\n",
    "            <div class=\"canvas-section key-partners\">\n",
    "                Parcerias Principais\n",
    "                <div class=\"description\">\n",
    "                    - Provedores de dados financeiros.<br>\n",
    "                    - Streamlit Comunity<br>\n",
    "                    - MongoDB Atlas<br>\n",
    "                </div>\n",
    "            </div>\n",
    "        ''', unsafe_allow_html=True)\n",
    "\n",
    "    st.markdown('''\n",
    "        <div class=\"canvas-section cost-structure\">\n",
    "            Estrutura de Custos\n",
    "            <div class=\"description\">\n",
    "                - O projeto utilizará recursos gratuitos e open-source, portanto, não haverá custos diretos.<br>\n",
    "            </div>\n",
    "        </div>\n",
    "    ''', unsafe_allow_html=True)\n",
    "\n",
    "display_business_model_canvas()\n"
   ]
  },
  {
   "cell_type": "markdown",
   "metadata": {},
   "source": [
    "### Dashboard"
   ]
  },
  {
   "cell_type": "code",
   "execution_count": 83,
   "metadata": {},
   "outputs": [
    {
     "name": "stdout",
     "output_type": "stream",
     "text": [
      "Overwriting F:\\OneDrive\\Graduação Ciência de dados\\TPs\\Projeto de Bloco 4\\TP1\\app\\model\\Parte2.py\n"
     ]
    }
   ],
   "source": [
    "%%writefile \"F:\\OneDrive\\Graduação Ciência de dados\\TPs\\Projeto de Bloco 4\\TP1\\app\\model\\Parte2.py\"\n",
    "import streamlit as st\n",
    "import pandas as pd\n",
    "\n"
   ]
  }
 ],
 "metadata": {
  "kernelspec": {
   "display_name": "INFNET_II",
   "language": "python",
   "name": "python3"
  },
  "language_info": {
   "codemirror_mode": {
    "name": "ipython",
    "version": 3
   },
   "file_extension": ".py",
   "mimetype": "text/x-python",
   "name": "python",
   "nbconvert_exporter": "python",
   "pygments_lexer": "ipython3",
   "version": "3.11.5"
  }
 },
 "nbformat": 4,
 "nbformat_minor": 2
}
